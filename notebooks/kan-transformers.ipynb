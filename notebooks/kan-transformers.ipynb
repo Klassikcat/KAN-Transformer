{
 "cells": [
  {
   "cell_type": "markdown",
   "id": "7419eafc-5a18-4929-9d78-85dff0e86b4a",
   "metadata": {},
   "source": [
    "# Install Requirements"
   ]
  },
  {
   "cell_type": "markdown",
   "id": "48591c90-7fab-482c-83b6-fce90a7d2afa",
   "metadata": {},
   "source": [
    "# Test"
   ]
  },
  {
   "cell_type": "code",
   "execution_count": 2,
   "id": "5b5696f6",
   "metadata": {},
   "outputs": [
    {
     "name": "stderr",
     "output_type": "stream",
     "text": [
      "/home/zeus/miniconda3/envs/cloudspace/lib/python3.10/site-packages/huggingface_hub/file_download.py:1132: FutureWarning: `resume_download` is deprecated and will be removed in version 1.0.0. Downloads always resume when possible. If you want to force a new download, use `force_download=True`.\n",
      "  warnings.warn(\n"
     ]
    }
   ],
   "source": [
    "import torch\n",
    "import torch.nn as nn\n",
    "from transformers import AutoConfig, ElectraForMaskedLM, AutoTokenizer\n",
    "from ElectraKAN import ElectraGenerator\n",
    "\n",
    "\n",
    "torch.manual_seed(42)\n",
    "\n",
    "generator_tokenizer = AutoTokenizer.from_pretrained('google/electra-base-generator')\n",
    "generator_config = AutoConfig.from_pretrained('google/electra-base-generator')\n",
    "\n",
    "\n",
    "discriminator_tokenizer = AutoTokenizer.from_pretrained('google/electra-base-discriminator')\n",
    "discriminator_config = AutoConfig.from_pretrained('google/electra-base-discriminator')\n",
    "\n",
    "\n",
    "random_input_ids = torch.randint(0, len(generator_tokenizer), (1, 512))\n",
    "random_attention_mask = torch.randint(0, 1, (1, 512))\n",
    "random_token_type_ids = torch.randint(0, 1, (1, 512))"
   ]
  },
  {
   "cell_type": "code",
   "execution_count": 9,
   "id": "c2f8155f-343c-43f2-b451-4572ac1f8588",
   "metadata": {},
   "outputs": [
    {
     "name": "stdout",
     "output_type": "stream",
     "text": [
      "initialzation complete.\n",
      "dim: 2, size[1]: 768, in_feature: 768\n",
      "dim: 2, size[1]: 768, in_feature: 768\n",
      "dim: 2, size[1]: 768, in_feature: 768\n",
      "dim: 2, size[1]: 1024, in_feature: 1024\n",
      "dim: 2, size[1]: 768, in_feature: 768\n",
      "dim: 2, size[1]: 768, in_feature: 768\n",
      "dim: 2, size[1]: 768, in_feature: 768\n",
      "dim: 2, size[1]: 1024, in_feature: 1024\n",
      "dim: 2, size[1]: 768, in_feature: 768\n",
      "dim: 2, size[1]: 768, in_feature: 768\n",
      "dim: 2, size[1]: 768, in_feature: 768\n",
      "dim: 2, size[1]: 1024, in_feature: 1024\n",
      "dim: 2, size[1]: 768, in_feature: 768\n",
      "dim: 2, size[1]: 768, in_feature: 768\n",
      "dim: 2, size[1]: 768, in_feature: 768\n",
      "dim: 2, size[1]: 1024, in_feature: 1024\n",
      "dim: 2, size[1]: 768, in_feature: 768\n",
      "dim: 2, size[1]: 768, in_feature: 768\n",
      "dim: 2, size[1]: 768, in_feature: 768\n",
      "dim: 2, size[1]: 1024, in_feature: 1024\n",
      "dim: 2, size[1]: 768, in_feature: 768\n",
      "dim: 2, size[1]: 768, in_feature: 768\n",
      "dim: 2, size[1]: 768, in_feature: 768\n",
      "dim: 2, size[1]: 1024, in_feature: 1024\n",
      "dim: 2, size[1]: 768, in_feature: 768\n",
      "dim: 2, size[1]: 768, in_feature: 768\n",
      "dim: 2, size[1]: 768, in_feature: 768\n",
      "dim: 2, size[1]: 1024, in_feature: 1024\n",
      "dim: 2, size[1]: 768, in_feature: 768\n",
      "dim: 2, size[1]: 768, in_feature: 768\n",
      "dim: 2, size[1]: 768, in_feature: 768\n",
      "dim: 2, size[1]: 1024, in_feature: 1024\n",
      "dim: 2, size[1]: 768, in_feature: 768\n",
      "dim: 2, size[1]: 768, in_feature: 768\n",
      "dim: 2, size[1]: 768, in_feature: 768\n",
      "dim: 2, size[1]: 1024, in_feature: 1024\n",
      "dim: 2, size[1]: 768, in_feature: 768\n",
      "dim: 2, size[1]: 768, in_feature: 768\n",
      "dim: 2, size[1]: 768, in_feature: 768\n",
      "dim: 2, size[1]: 1024, in_feature: 1024\n",
      "dim: 2, size[1]: 768, in_feature: 768\n",
      "dim: 2, size[1]: 768, in_feature: 768\n",
      "dim: 2, size[1]: 768, in_feature: 768\n",
      "dim: 2, size[1]: 1024, in_feature: 1024\n",
      "dim: 2, size[1]: 768, in_feature: 768\n",
      "dim: 2, size[1]: 768, in_feature: 768\n",
      "dim: 2, size[1]: 768, in_feature: 768\n",
      "dim: 2, size[1]: 1024, in_feature: 1024\n",
      "dim: 2, size[1]: 768, in_feature: 768\n",
      "dim: 2, size[1]: 768, in_feature: 768\n"
     ]
    }
   ],
   "source": [
    "orig_generator = ElectraForMaskedLM(generator_config)\n",
    "generator = ElectraGenerator(\n",
    "    vocab_size=len(generator_tokenizer),\n",
    "    embedding_dim=768,\n",
    "    vocab_type_size=2,\n",
    "    layernorm_eps=1e-12,\n",
    "    embedding_dropout_p=.1,\n",
    "    hidden_dim=768,\n",
    "    num_heads=4,\n",
    "    ff_dim=1024,\n",
    "    num_layers=12,\n",
    "    max_pos_embedding=512\n",
    ") \n",
    "\n",
    "\n",
    "print(\"initialzation complete.\")\n",
    "\n",
    "with torch.no_grad():\n",
    "    orig_generator.eval()\n",
    "    generator.eval()\n",
    "\n",
    "    orig_output = orig_generator(input_ids=random_input_ids, attention_mask=random_attention_mask, token_type_ids=random_token_type_ids)\n",
    "    output = generator(input_ids=random_input_ids, attention_mask=random_attention_mask, token_type_ids=random_token_type_ids)"
   ]
  },
  {
   "cell_type": "code",
   "execution_count": 15,
   "id": "208bb447-505d-469f-b00a-072d569da746",
   "metadata": {},
   "outputs": [
    {
     "data": {
      "text/plain": [
       "False"
      ]
     },
     "execution_count": 15,
     "metadata": {},
     "output_type": "execute_result"
    }
   ],
   "source": [
    "torch.allclose(orig_output.logits, output)"
   ]
  }
 ],
 "metadata": {
  "kernelspec": {
   "display_name": "Python 3 (ipykernel)",
   "language": "python",
   "name": "python3"
  },
  "language_info": {
   "codemirror_mode": {
    "name": "ipython",
    "version": 3
   },
   "file_extension": ".py",
   "mimetype": "text/x-python",
   "name": "python",
   "nbconvert_exporter": "python",
   "pygments_lexer": "ipython3",
   "version": "3.10.10"
  }
 },
 "nbformat": 4,
 "nbformat_minor": 5
}
